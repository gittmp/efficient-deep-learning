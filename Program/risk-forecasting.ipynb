{
 "cells": [
  {
   "cell_type": "markdown",
   "metadata": {},
   "source": [
    "# Risk forecasting DNN model"
   ]
  },
  {
   "cell_type": "code",
   "execution_count": 34,
   "metadata": {},
   "outputs": [],
   "source": [
    "import numpy as np\n",
    "import pandas as pd\n",
    "import matplotlib.pyplot as plt\n",
    "import math\n",
    "import json\n",
    "\n",
    "import yfinance as yf"
   ]
  },
  {
   "cell_type": "markdown",
   "metadata": {},
   "source": [
    "### Dataset"
   ]
  },
  {
   "cell_type": "code",
   "execution_count": 35,
   "metadata": {},
   "outputs": [
    {
     "data": {
      "text/plain": [
       "2022-05-02 16:00:00+01:00    1.252160\n",
       "2022-05-02 17:00:00+01:00    1.249875\n",
       "2022-05-02 18:00:00+01:00    1.247972\n",
       "2022-05-02 19:00:00+01:00    1.247536\n",
       "2022-05-02 20:00:00+01:00    1.248970\n",
       "                               ...   \n",
       "2022-06-02 12:00:00+01:00    1.255713\n",
       "2022-06-02 13:00:00+01:00    1.255619\n",
       "2022-06-02 14:00:00+01:00    1.252976\n",
       "2022-06-02 15:00:00+01:00    1.254438\n",
       "2022-06-02 16:00:00+01:00    1.255698\n",
       "Name: Close, Length: 549, dtype: float64"
      ]
     },
     "execution_count": 35,
     "metadata": {},
     "output_type": "execute_result"
    }
   ],
   "source": [
    "# fetch closing values\n",
    "pair = 'GBPUSD=X'\n",
    "period='1mo'\n",
    "interval='1h'\n",
    "\n",
    "data = yf.Ticker(pair)\n",
    "history = data.history(period=period, interval=interval)\n",
    "closing_prices = history.Close.loc[history.Close != 0][:-1]\n",
    "closing_prices\n",
    "\n",
    "# compute logarithmic returns\n",
    "# log_returns = np.log(closing_prices) - np.log(closing_prices.shift(1))\n",
    "# log_returns.dropna(inplace=True)\n",
    "# log_returns"
   ]
  }
 ],
 "metadata": {
  "interpreter": {
   "hash": "addd6be7329112535dc676431234f8804de9985d049967865d55c0c8ce2dcd45"
  },
  "kernelspec": {
   "display_name": "Python 3.8.13 ('ThesisEnv')",
   "language": "python",
   "name": "python3"
  },
  "language_info": {
   "codemirror_mode": {
    "name": "ipython",
    "version": 3
   },
   "file_extension": ".py",
   "mimetype": "text/x-python",
   "name": "python",
   "nbconvert_exporter": "python",
   "pygments_lexer": "ipython3",
   "version": "3.8.13"
  },
  "orig_nbformat": 4
 },
 "nbformat": 4,
 "nbformat_minor": 2
}
