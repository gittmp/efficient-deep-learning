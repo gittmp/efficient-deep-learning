{
 "cells": [
  {
   "cell_type": "markdown",
   "metadata": {},
   "source": [
    "# Active Learning"
   ]
  },
  {
   "cell_type": "markdown",
   "metadata": {},
   "source": [
    "## Baseline CNN"
   ]
  },
  {
   "cell_type": "markdown",
   "metadata": {},
   "source": [
    "### Imports"
   ]
  },
  {
   "cell_type": "code",
   "execution_count": 1,
   "metadata": {},
   "outputs": [],
   "source": [
    "# General\n",
    "import matplotlib.pyplot as plt\n",
    "import numpy as np\n",
    "import pandas as pd\n",
    "from time import time\n",
    "import tensorflow as tf\n",
    "\n",
    "# CNNs\n",
    "from tensorflow.keras.models import Sequential\n",
    "from tensorflow.keras.layers import Dense, Flatten, Conv2D, MaxPooling2D\n",
    "\n",
    "# TensorBoard\n",
    "from tensorflow.keras.callbacks import TensorBoard, ModelCheckpoint"
   ]
  },
  {
   "cell_type": "markdown",
   "metadata": {},
   "source": [
    "### Full dataset"
   ]
  },
  {
   "cell_type": "code",
   "execution_count": 2,
   "metadata": {},
   "outputs": [
    {
     "data": {
      "image/png": "[encoded data removed]",
      "text/plain": [
       "<Figure size 432x288 with 1 Axes>"
      ]
     },
     "metadata": {
      "needs_background": "light"
     },
     "output_type": "display_data"
    },
    {
     "data": {
      "text/plain": [
       "(60000, 28, 28)"
      ]
     },
     "execution_count": 2,
     "metadata": {},
     "output_type": "execute_result"
    }
   ],
   "source": [
    "(X_train, y_train), (X_test, y_test) = tf.keras.datasets.fashion_mnist.load_data()\n",
    "class_names = ['T-shirt/top', 'Trouser', 'Pullover', 'Dress', 'Coat', 'Sandal', 'Shirt', 'Sneaker', 'Bag', 'Ankle boot']\n",
    "\n",
    "X_train = tf.keras.utils.normalize(X_train, axis=1)\n",
    "X_test = tf.keras.utils.normalize(X_test, axis=1)\n",
    "\n",
    "plt.imshow(X_train[np.random.randint(0, X_train.shape[0])], cmap=plt.cm.binary)\n",
    "plt.show()\n",
    "\n",
    "X_train.shape"
   ]
  },
  {
   "cell_type": "markdown",
   "metadata": {},
   "source": [
    "### CNN model"
   ]
  },
  {
   "cell_type": "code",
   "execution_count": 3,
   "metadata": {},
   "outputs": [
    {
     "name": "stderr",
     "output_type": "stream",
     "text": [
      "2022-05-27 16:22:38.390742: I tensorflow/core/platform/cpu_feature_guard.cc:151] This TensorFlow binary is optimized with oneAPI Deep Neural Network Library (oneDNN) to use the following CPU instructions in performance-critical operations:  AVX2 AVX512F FMA\n",
      "To enable them in other operations, rebuild TensorFlow with the appropriate compiler flags.\n"
     ]
    },
    {
     "name": "stdout",
     "output_type": "stream",
     "text": [
      "Epoch 1/3\n",
      "1500/1500 [==============================] - 35s 23ms/step - loss: 0.5096 - accuracy: 0.8120 - val_loss: 0.3816 - val_accuracy: 0.8601\n",
      "Epoch 2/3\n",
      "1500/1500 [==============================] - 35s 23ms/step - loss: 0.3439 - accuracy: 0.8735 - val_loss: 0.3513 - val_accuracy: 0.8699\n",
      "Epoch 3/3\n",
      "1500/1500 [==============================] - 38s 25ms/step - loss: 0.2969 - accuracy: 0.8910 - val_loss: 0.3031 - val_accuracy: 0.8863\n"
     ]
    },
    {
     "data": {
      "text/plain": [
       "<keras.callbacks.History at 0x7fb96c97aa00>"
      ]
     },
     "execution_count": 3,
     "metadata": {},
     "output_type": "execute_result"
    }
   ],
   "source": [
    "batch_size = 32\n",
    "no_channels = 1\n",
    "\n",
    "input_shape = (X_train.shape[1], X_train.shape[2], no_channels)\n",
    "\n",
    "# sequential apif\n",
    "# convolutional layers: specify no. conv filters (to give certain output shape), kernel dimensions\n",
    "model = Sequential([\n",
    "    Conv2D(64, (3, 3), input_shape=input_shape, activation=\"relu\"),\n",
    "    MaxPooling2D(pool_size=(2, 2)),\n",
    "\n",
    "    Conv2D(64, (3, 3), activation=\"relu\"),\n",
    "    MaxPooling2D(pool_size=(2, 2)),\n",
    "\n",
    "    Flatten(),\n",
    "    Dense(64, activation=\"relu\"),\n",
    "\n",
    "    Dense(10, activation=\"softmax\")\n",
    "])\n",
    "\n",
    "# compile model\n",
    "model.compile(loss=\"sparse_categorical_crossentropy\", optimizer=\"adam\", metrics=[\"accuracy\"])\n",
    "\n",
    "# fit model\n",
    "model.fit(X_train, y_train, epochs=3, validation_split=0.2)"
   ]
  },
  {
   "cell_type": "code",
   "execution_count": 5,
   "metadata": {},
   "outputs": [
    {
     "data": {
      "image/png": "[encoded data removed]",
      "text/plain": [
       "<Figure size 432x288 with 1 Axes>"
      ]
     },
     "metadata": {
      "needs_background": "light"
     },
     "output_type": "display_data"
    },
    {
     "name": "stdout",
     "output_type": "stream",
     "text": [
      "Predicted probabilities: [1.1630344e-03 3.8433045e-06 9.9573767e-01 4.0385621e-05 1.1440541e-03\n",
      " 7.8111661e-06 1.8440720e-03 1.4148310e-07 5.5908200e-05 3.0805572e-06]\n",
      "\n",
      "Predicted class: Pullover\n",
      "True class: Pullover\n"
     ]
    }
   ],
   "source": [
    "def class_prediction(probabilities):\n",
    "    return class_names[np.argmax(probabilities)]\n",
    "\n",
    "\n",
    "# sample random test instance from test dataset\n",
    "rand_index = np.random.randint(0, X_test.shape[0])\n",
    "test_instance = X_test[rand_index]\n",
    "plt.imshow(test_instance, cmap=plt.cm.binary)\n",
    "plt.show()\n",
    "\n",
    "test_instance = tf.constant(test_instance)\n",
    "test_instance = tf.expand_dims(test_instance, 0)\n",
    "\n",
    "# use our original model to make a class prediction on this image\n",
    "prediction = model.predict(test_instance)\n",
    "\n",
    "print(\"Predicted probabilities:\", prediction[0])\n",
    "print(\"\\nPredicted class:\", class_prediction(prediction[0]))\n",
    "print(\"True class:\", class_names[y_test[rand_index]])"
   ]
  }
 ],
 "metadata": {
  "interpreter": {
   "hash": "addd6be7329112535dc676431234f8804de9985d049967865d55c0c8ce2dcd45"
  },
  "kernelspec": {
   "display_name": "Python 3.8.13 ('ThesisEnv')",
   "language": "python",
   "name": "python3"
  },
  "language_info": {
   "codemirror_mode": {
    "name": "ipython",
    "version": 3
   },
   "file_extension": ".py",
   "mimetype": "text/x-python",
   "name": "python",
   "nbconvert_exporter": "python",
   "pygments_lexer": "ipython3",
   "version": "3.8.13"
  },
  "orig_nbformat": 4
 },
 "nbformat": 4,
 "nbformat_minor": 2
}
